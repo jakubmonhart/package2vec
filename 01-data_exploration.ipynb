{
 "cells": [
  {
   "cell_type": "markdown",
   "metadata": {},
   "source": [
    "# Data exploration\n",
    "\n",
    "Load data parsed by `data/parse_requirements.py` and cleaned by `data/filter_requirements.py`."
   ]
  },
  {
   "cell_type": "code",
   "execution_count": 6,
   "metadata": {},
   "outputs": [],
   "source": [
    "import pandas as pd\n",
    "\n",
    "# Load data\n",
    "data_path = '/Users/kuba/git/work/package2vec_public/data/processed/requirements_cleaned.csv'\n",
    "df = pd.read_csv(data_path)"
   ]
  },
  {
   "cell_type": "markdown",
   "metadata": {},
   "source": [
    "The dataset consists of 56271 packages with 269440 dependencies in total. These dependencies constitute of 25204 unique packages - 'vocabulary' that we will use to train the models."
   ]
  },
  {
   "cell_type": "code",
   "execution_count": 45,
   "metadata": {},
   "outputs": [
    {
     "name": "stdout",
     "output_type": "stream",
     "text": [
      "Number of entries in dataset: 269440\n",
      "Number of packages with stated dependencies: 56271\n",
      "Number of unique dependencies: 25204\n"
     ]
    }
   ],
   "source": [
    "print('Number of entries in dataset: {}'.format(df.shape[0]))\n",
    "print('Number of packages with stated dependencies: {}'.format(df['package'].unique().shape[0]))\n",
    "print('Number of unique dependencies: {}'.format(len(df['dependency'].unique())))"
   ]
  },
  {
   "cell_type": "markdown",
   "metadata": {},
   "source": [
    "---\n",
    "\n",
    "Most of the packages (cca 15k) have only one dependency and therefore carry no information for models we used."
   ]
  },
  {
   "cell_type": "code",
   "execution_count": 58,
   "metadata": {},
   "outputs": [
    {
     "data": {
      "text/plain": [
       "<matplotlib.axes._subplots.AxesSubplot at 0x10e9498e0>"
      ]
     },
     "execution_count": 58,
     "metadata": {},
     "output_type": "execute_result"
    },
    {
     "data": {
      "image/png": "[encoded data removed]",
      "text/plain": [
       "<Figure size 432x288 with 1 Axes>"
      ]
     },
     "metadata": {
      "needs_background": "light"
     },
     "output_type": "display_data"
    }
   ],
   "source": [
    "# number of dependencies per package\n",
    "counts = df['package'].value_counts()\n",
    "\n",
    "# histogram\n",
    "counts.plot.hist(bins=600)"
   ]
  },
  {
   "cell_type": "markdown",
   "metadata": {},
   "source": [
    "By filtering out packages with only one dependency, we get a smaller dataset."
   ]
  },
  {
   "cell_type": "code",
   "execution_count": 86,
   "metadata": {},
   "outputs": [],
   "source": [
    "# Use only packages with more then 1 dependencies\n",
    "counts = df['package'].value_counts()\n",
    "mask = df['package'].replace(counts)\n",
    "df = df.loc[mask.ge(2)]"
   ]
  },
  {
   "cell_type": "code",
   "execution_count": 97,
   "metadata": {},
   "outputs": [
    {
     "name": "stdout",
     "output_type": "stream",
     "text": [
      "Number of entries in dataset: 253802\n",
      "Number of packages with stated dependencies: 40633\n",
      "Number of unique dependencies: 24454\n"
     ]
    }
   ],
   "source": [
    "print('Number of entries in dataset: {}'.format(df.shape[0]))\n",
    "print('Number of packages with stated dependencies: {}'.format(df['package'].unique().shape[0]))\n",
    "print('Number of unique dependencies: {}'.format(len(df['dependency'].unique())))"
   ]
  },
  {
   "cell_type": "markdown",
   "metadata": {},
   "source": [
    "---\n",
    " Many of dependencies occur less then 10 in the whole dataset. By filtering them out, the number of unique dependencies (vocabulary) is significantly reduced."
   ]
  },
  {
   "cell_type": "code",
   "execution_count": 108,
   "metadata": {},
   "outputs": [
    {
     "data": {
      "text/plain": [
       "<matplotlib.axes._subplots.AxesSubplot at 0x1123dac70>"
      ]
     },
     "execution_count": 108,
     "metadata": {},
     "output_type": "execute_result"
    },
    {
     "data": {
      "image/png": "[encoded data removed]",
      "text/plain": [
       "<Figure size 432x288 with 1 Axes>"
      ]
     },
     "metadata": {
      "needs_background": "light"
     },
     "output_type": "display_data"
    }
   ],
   "source": [
    "df['dependency'].value_counts().plot.hist(bins=100)"
   ]
  },
  {
   "cell_type": "code",
   "execution_count": 110,
   "metadata": {},
   "outputs": [],
   "source": [
    "# Use only dependencies which occur more then or equal to min_count\n",
    "MIN_COUNT = 10\n",
    "counts = df['dependency'].value_counts()\n",
    "mask = df['dependency'].replace(counts)\n",
    "df = df.loc[mask.ge(MIN_COUNT)]"
   ]
  },
  {
   "cell_type": "code",
   "execution_count": 115,
   "metadata": {},
   "outputs": [
    {
     "name": "stdout",
     "output_type": "stream",
     "text": [
      "Number of entries in dataset: 210610\n",
      "Number of packages with stated dependencies: 39616\n",
      "Number of unique dependencies: 2232\n"
     ]
    }
   ],
   "source": [
    "print('Number of entries in dataset: {}'.format(df.shape[0]))\n",
    "print('Number of packages with stated dependencies: {}'.format(df['package'].unique().shape[0]))\n",
    "print('Number of unique dependencies: {}'.format(len(df['dependency'].unique())))"
   ]
  }
 ],
 "metadata": {
  "kernelspec": {
   "display_name": "package2vec",
   "language": "python",
   "name": "package2vec"
  },
  "language_info": {
   "codemirror_mode": {
    "name": "ipython",
    "version": 3
   },
   "file_extension": ".py",
   "mimetype": "text/x-python",
   "name": "python",
   "nbconvert_exporter": "python",
   "pygments_lexer": "ipython3",
   "version": "3.8.1"
  }
 },
 "nbformat": 4,
 "nbformat_minor": 4
}
